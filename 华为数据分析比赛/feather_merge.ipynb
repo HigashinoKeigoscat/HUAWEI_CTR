{
 "cells": [
  {
   "cell_type": "code",
   "execution_count": 2,
   "metadata": {},
   "outputs": [],
   "source": [
    "import pandas as pd"
   ]
  },
  {
   "cell_type": "code",
   "execution_count": 3,
   "metadata": {},
   "outputs": [],
   "source": [
    "Ad=pd.read_csv(\"D:/Data/2022_3_data/train/train_data_ads.csv\")\n",
    "Feed=pd.read_csv(\"D:/Data/2022_3_data/train/train_data_feeds.csv\")"
   ]
  },
  {
   "cell_type": "code",
   "execution_count": null,
   "metadata": {},
   "outputs": [
    {
     "data": {
      "text/plain": [
       "Index(['u_userId', 'u_phonePrice', 'u_browserLifeCycle', 'u_browserMode',\n",
       "       'u_feedLifeCycle', 'u_refreshTimes', 'u_newsCatInterests',\n",
       "       'u_newsCatDislike', 'u_newsCatInterestsST', 'u_click_ca2_news',\n",
       "       'i_docId', 'i_s_sourceId', 'i_regionEntity', 'i_cat', 'i_entities',\n",
       "       'i_dislikeTimes', 'i_upTimes', 'i_dtype', 'e_ch', 'e_m', 'e_po', 'e_pl',\n",
       "       'e_rn', 'e_section', 'e_et', 'label', 'cillabel', 'pro'],\n",
       "      dtype='object')"
      ]
     },
     "execution_count": 3,
     "metadata": {},
     "output_type": "execute_result"
    }
   ],
   "source": [
    "Feed.columns"
   ]
  },
  {
   "cell_type": "code",
   "execution_count": null,
   "metadata": {},
   "outputs": [],
   "source": [
    "column=['u_userId', 'u_phonePrice', 'u_browserLifeCycle', 'u_browserMode']\n",
    "df=Feed[column]"
   ]
  },
  {
   "cell_type": "code",
   "execution_count": null,
   "metadata": {},
   "outputs": [
    {
     "name": "stderr",
     "output_type": "stream",
     "text": [
      "C:\\Users\\zhouda\\AppData\\Local\\Temp\\ipykernel_21636\\3964908240.py:1: SettingWithCopyWarning: \n",
      "A value is trying to be set on a copy of a slice from a DataFrame\n",
      "\n",
      "See the caveats in the documentation: https://pandas.pydata.org/pandas-docs/stable/user_guide/indexing.html#returning-a-view-versus-a-copy\n",
      "  df.drop_duplicates(keep='last',inplace=True)\n"
     ]
    }
   ],
   "source": [
    "df.drop_duplicates(keep='last',inplace=True)"
   ]
  },
  {
   "cell_type": "code",
   "execution_count": null,
   "metadata": {},
   "outputs": [],
   "source": [
    "fianl_feed=Ad.merge(df,how=\"left\",left_on=\"user_id\",right_on=\"u_userId\")"
   ]
  },
  {
   "cell_type": "code",
   "execution_count": null,
   "metadata": {},
   "outputs": [
    {
     "ename": "NameError",
     "evalue": "name 'fianl_feed' is not defined",
     "output_type": "error",
     "traceback": [
      "\u001b[1;31m---------------------------------------------------------------------------\u001b[0m",
      "\u001b[1;31mNameError\u001b[0m                                 Traceback (most recent call last)",
      "\u001b[1;32md:\\Anaconda\\envs\\sklearn-env\\Lib\\site-packages\\pandas\\core\\feather_merge.ipynb Cell 7\u001b[0m in \u001b[0;36m<cell line: 1>\u001b[1;34m()\u001b[0m\n\u001b[1;32m----> <a href='vscode-notebook-cell:/d%3A/Anaconda/envs/sklearn-env/Lib/site-packages/pandas/core/feather_merge.ipynb#ch0000006?line=0'>1</a>\u001b[0m fianl_feed\n",
      "\u001b[1;31mNameError\u001b[0m: name 'fianl_feed' is not defined"
     ]
    }
   ],
   "source": [
    "fianl_feed"
   ]
  },
  {
   "cell_type": "code",
   "execution_count": null,
   "metadata": {},
   "outputs": [],
   "source": []
  }
 ],
 "metadata": {
  "kernelspec": {
   "display_name": "Python 3.8.13 ('sklearn-env')",
   "language": "python",
   "name": "python3"
  },
  "language_info": {
   "codemirror_mode": {
    "name": "ipython",
    "version": 3
   },
   "file_extension": ".py",
   "mimetype": "text/x-python",
   "name": "python",
   "nbconvert_exporter": "python",
   "pygments_lexer": "ipython3",
   "version": "3.8.13"
  },
  "orig_nbformat": 4,
  "vscode": {
   "interpreter": {
    "hash": "b13aeeebb9fc3ff7d6e053fc553c2e2eb79dbc2e1a7d52b8e43bcd3bed0b6d70"
   }
  }
 },
 "nbformat": 4,
 "nbformat_minor": 2
}
