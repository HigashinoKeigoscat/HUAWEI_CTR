{
 "cells": [
  {
   "cell_type": "code",
   "execution_count": 1,
   "id": "8c08dc18-cf42-45eb-8fa1-3165aad87344",
   "metadata": {},
   "outputs": [],
   "source": [
    "# from utils import *"
   ]
  },
  {
   "cell_type": "code",
   "execution_count": 2,
   "id": "3f21670e-cf5a-4365-9776-025e63c3bdb3",
   "metadata": {},
   "outputs": [
    {
     "name": "stdout",
     "output_type": "stream",
     "text": [
      "CPU times: user 26.8 s, sys: 2.29 s, total: 29.1 s\n",
      "Wall time: 29.1 s\n"
     ]
    },
    {
     "data": {
      "text/plain": [
       "((7675517, 35), (3227732, 28), (976058, 34), (369341, 28))"
      ]
     },
     "execution_count": 2,
     "metadata": {},
     "output_type": "execute_result"
    }
   ],
   "source": [
    "# %%time\n",
    "# train_ads, train_feeds = pd.read_csv('./data/train/train_data_ads.csv'), pd.read_csv('./data/train/train_data_feeds.csv')\n",
    "# test_ads, test_feeds = pd.read_csv('./data/test/test_data_ads.csv'), pd.read_csv('./data/test/test_data_feeds.csv')\n",
    "# train_ads.shape, train_feeds.shape, test_ads.shape, test_feeds.shape"
   ]
  },
  {
   "cell_type": "code",
   "execution_count": 3,
   "id": "761503b1-730e-43a4-8bec-f45c0f7e8d8a",
   "metadata": {
    "collapsed": true,
    "jupyter": {
     "outputs_hidden": true
    },
    "tags": []
   },
   "outputs": [
    {
     "name": "stderr",
     "output_type": "stream",
     "text": [
      "100%|███████████████████████████████████████████| 35/35 [00:06<00:00,  5.81it/s]\n",
      "100%|███████████████████████████████████████████| 28/28 [00:01<00:00, 22.17it/s]\n",
      "100%|███████████████████████████████████████████| 34/34 [00:00<00:00, 94.91it/s]\n",
      "100%|██████████████████████████████████████████| 28/28 [00:00<00:00, 293.04it/s]\n"
     ]
    },
    {
     "data": {
      "text/plain": [
       "((7675517, 35), (3227732, 28), (976058, 34), (369341, 28))"
      ]
     },
     "execution_count": 3,
     "metadata": {},
     "output_type": "execute_result"
    }
   ],
   "source": [
    "# train_ads = reduce(train_ads)\n",
    "# train_feeds = reduce(train_feeds)\n",
    "# test_ads = reduce(test_ads)\n",
    "# test_feeds = reduce(test_feeds)\n",
    "# train_ads.shape, train_feeds.shape, test_ads.shape, test_feeds.shape"
   ]
  },
  {
   "cell_type": "code",
   "execution_count": 4,
   "id": "f0b41a4f-c0f4-4224-b9c8-44279eada2f9",
   "metadata": {},
   "outputs": [
    {
     "data": {
      "text/plain": [
       "((7675517, 33), (976058, 32))"
      ]
     },
     "execution_count": 4,
     "metadata": {},
     "output_type": "execute_result"
    }
   ],
   "source": [
    "# # 删去方差为0的特征\n",
    "# del_cols = ['site_id', 'app_score']\n",
    "# train_ads = train_ads.drop(columns=del_cols).copy()\n",
    "# test_ads = test_ads.drop(columns=del_cols).copy()\n",
    "# train_ads.shape, test_ads.shape"
   ]
  },
  {
   "cell_type": "code",
   "execution_count": 5,
   "id": "961e82ea-b1b4-47cd-9ade-71142017712c",
   "metadata": {},
   "outputs": [],
   "source": [
    "# # 方便后续拼接\n",
    "# train_feeds['user_id'] = train_feeds['u_userId']\n",
    "# test_feeds['user_id'] = test_feeds['u_userId']\n",
    "# del train_feeds['u_userId'], test_feeds['u_userId']"
   ]
  },
  {
   "cell_type": "code",
   "execution_count": 6,
   "id": "8ab0b772-0800-4c59-8eac-710cc0ea0c95",
   "metadata": {},
   "outputs": [
    {
     "data": {
      "text/plain": [
       "(0, 0)"
      ]
     },
     "execution_count": 6,
     "metadata": {},
     "output_type": "execute_result"
    }
   ],
   "source": [
    "# # 检查是否用户信息齐全\n",
    "# (~train_ads.user_id.isin(train_feeds.user_id.values)).sum(), (~test_ads.user_id.isin(test_feeds.user_id.values)).sum()"
   ]
  },
  {
   "cell_type": "code",
   "execution_count": 7,
   "id": "1670f6ed-0d88-40f1-9bb4-4a146be471f1",
   "metadata": {},
   "outputs": [],
   "source": [
    "# # 保存为pkl格式方便读取\n",
    "# train_ads.to_pickle('./data/train/train_data_ads.pkl')\n",
    "# train_feeds.to_pickle('./data/train/train_data_feeds.pkl')\n",
    "\n",
    "# test_ads.to_pickle('./data/test/test_data_ads.pkl')\n",
    "# test_feeds.to_pickle('./data/test/test_data_feeds.pkl')"
   ]
  },
  {
   "cell_type": "code",
   "execution_count": 1,
   "id": "3a155e29-7c2d-4976-9b23-3d7b9f649915",
   "metadata": {},
   "outputs": [],
   "source": [
    "from utils import *"
   ]
  },
  {
   "cell_type": "code",
   "execution_count": 2,
   "id": "f758dcdf-c430-46e5-813e-7ec6d5a85c27",
   "metadata": {},
   "outputs": [
    {
     "name": "stdout",
     "output_type": "stream",
     "text": [
      "CPU times: user 1.73 s, sys: 563 ms, total: 2.3 s\n",
      "Wall time: 2.29 s\n"
     ]
    },
    {
     "data": {
      "text/plain": [
       "((7675517, 33), (3227732, 28), (976058, 32), (369341, 28))"
      ]
     },
     "execution_count": 2,
     "metadata": {},
     "output_type": "execute_result"
    }
   ],
   "source": [
    "%%time\n",
    "train_ads, train_feeds = pd.read_pickle('./data/train/train_data_ads.pkl'), pd.read_pickle('./data/train/train_data_feeds.pkl')\n",
    "test_ads, test_feeds = pd.read_pickle('./data/test/test_data_ads.pkl'), pd.read_pickle('./data/test/test_data_feeds.pkl')\n",
    "train_ads.shape, train_feeds.shape, test_ads.shape, test_feeds.shape"
   ]
  },
  {
   "cell_type": "code",
   "execution_count": 3,
   "id": "92181a4b-8c3e-4146-a2df-93f76dace626",
   "metadata": {},
   "outputs": [
    {
     "data": {
      "text/plain": [
       "((7675517, 26), (976058, 25))"
      ]
     },
     "execution_count": 3,
     "metadata": {},
     "output_type": "execute_result"
    }
   ],
   "source": [
    "# 先不处理object特征\n",
    "object_cols = ['ad_click_list_v001', 'ad_click_list_v002', 'ad_click_list_v003',\n",
    "               'ad_close_list_v001', 'ad_close_list_v002', 'ad_close_list_v003',\n",
    "               'u_newsCatInterestsST']\n",
    "train_ads = train_ads.drop(columns=object_cols).copy()\n",
    "test_ads = test_ads.drop(columns=object_cols).copy()\n",
    "train_ads.shape, test_ads.shape"
   ]
  },
  {
   "cell_type": "code",
   "execution_count": 4,
   "id": "46f9fef8-2f5f-4dfe-9400-ee05ae7d012e",
   "metadata": {},
   "outputs": [
    {
     "data": {
      "text/plain": [
       "((7675517, 25), (7675517,))"
      ]
     },
     "execution_count": 4,
     "metadata": {},
     "output_type": "execute_result"
    }
   ],
   "source": [
    "train_features = train_ads.drop(columns=['label']).copy()\n",
    "train_labels = train_ads['label'].copy()\n",
    "train_features.shape, train_labels.shape"
   ]
  },
  {
   "cell_type": "code",
   "execution_count": 5,
   "id": "2887012b-1eb5-424b-ad5c-76fa80a2ef83",
   "metadata": {},
   "outputs": [
    {
     "data": {
      "text/plain": [
       "((6140413, 25), (1535104, 25), (6140413,), (1535104,))"
      ]
     },
     "execution_count": 5,
     "metadata": {},
     "output_type": "execute_result"
    }
   ],
   "source": [
    "x_train, x_val, y_train, y_val = train_test_split(train_features, train_labels, test_size=0.2, random_state=12)\n",
    "x_train.shape, x_val.shape, y_train.shape, y_val.shape"
   ]
  },
  {
   "cell_type": "code",
   "execution_count": 6,
   "id": "17510c1d-4431-4813-b20b-471fc7fd5f92",
   "metadata": {},
   "outputs": [],
   "source": [
    "x_train_sample = x_train.head(2000).copy()\n",
    "y_train_sample = y_train.head(2000).copy()\n",
    "x_val_sample = x_val.head(2000).copy()\n",
    "y_val_sample = y_val.head(2000).copy()"
   ]
  },
  {
   "cell_type": "markdown",
   "id": "82657813-0f29-4e22-9eae-fd7dbf24f455",
   "metadata": {},
   "source": [
    "* 随机森林"
   ]
  },
  {
   "cell_type": "code",
   "execution_count": 7,
   "id": "43788c6d-75ba-4598-9a41-2ef319a871eb",
   "metadata": {},
   "outputs": [
    {
     "name": "stdout",
     "output_type": "stream",
     "text": [
      "CPU times: user 1h 2min 11s, sys: 16.6 s, total: 1h 2min 27s\n",
      "Wall time: 4min 38s\n"
     ]
    },
    {
     "data": {
      "text/html": [
       "<style>#sk-container-id-1 {color: black;background-color: white;}#sk-container-id-1 pre{padding: 0;}#sk-container-id-1 div.sk-toggleable {background-color: white;}#sk-container-id-1 label.sk-toggleable__label {cursor: pointer;display: block;width: 100%;margin-bottom: 0;padding: 0.3em;box-sizing: border-box;text-align: center;}#sk-container-id-1 label.sk-toggleable__label-arrow:before {content: \"▸\";float: left;margin-right: 0.25em;color: #696969;}#sk-container-id-1 label.sk-toggleable__label-arrow:hover:before {color: black;}#sk-container-id-1 div.sk-estimator:hover label.sk-toggleable__label-arrow:before {color: black;}#sk-container-id-1 div.sk-toggleable__content {max-height: 0;max-width: 0;overflow: hidden;text-align: left;background-color: #f0f8ff;}#sk-container-id-1 div.sk-toggleable__content pre {margin: 0.2em;color: black;border-radius: 0.25em;background-color: #f0f8ff;}#sk-container-id-1 input.sk-toggleable__control:checked~div.sk-toggleable__content {max-height: 200px;max-width: 100%;overflow: auto;}#sk-container-id-1 input.sk-toggleable__control:checked~label.sk-toggleable__label-arrow:before {content: \"▾\";}#sk-container-id-1 div.sk-estimator input.sk-toggleable__control:checked~label.sk-toggleable__label {background-color: #d4ebff;}#sk-container-id-1 div.sk-label input.sk-toggleable__control:checked~label.sk-toggleable__label {background-color: #d4ebff;}#sk-container-id-1 input.sk-hidden--visually {border: 0;clip: rect(1px 1px 1px 1px);clip: rect(1px, 1px, 1px, 1px);height: 1px;margin: -1px;overflow: hidden;padding: 0;position: absolute;width: 1px;}#sk-container-id-1 div.sk-estimator {font-family: monospace;background-color: #f0f8ff;border: 1px dotted black;border-radius: 0.25em;box-sizing: border-box;margin-bottom: 0.5em;}#sk-container-id-1 div.sk-estimator:hover {background-color: #d4ebff;}#sk-container-id-1 div.sk-parallel-item::after {content: \"\";width: 100%;border-bottom: 1px solid gray;flex-grow: 1;}#sk-container-id-1 div.sk-label:hover label.sk-toggleable__label {background-color: #d4ebff;}#sk-container-id-1 div.sk-serial::before {content: \"\";position: absolute;border-left: 1px solid gray;box-sizing: border-box;top: 0;bottom: 0;left: 50%;z-index: 0;}#sk-container-id-1 div.sk-serial {display: flex;flex-direction: column;align-items: center;background-color: white;padding-right: 0.2em;padding-left: 0.2em;position: relative;}#sk-container-id-1 div.sk-item {position: relative;z-index: 1;}#sk-container-id-1 div.sk-parallel {display: flex;align-items: stretch;justify-content: center;background-color: white;position: relative;}#sk-container-id-1 div.sk-item::before, #sk-container-id-1 div.sk-parallel-item::before {content: \"\";position: absolute;border-left: 1px solid gray;box-sizing: border-box;top: 0;bottom: 0;left: 50%;z-index: -1;}#sk-container-id-1 div.sk-parallel-item {display: flex;flex-direction: column;z-index: 1;position: relative;background-color: white;}#sk-container-id-1 div.sk-parallel-item:first-child::after {align-self: flex-end;width: 50%;}#sk-container-id-1 div.sk-parallel-item:last-child::after {align-self: flex-start;width: 50%;}#sk-container-id-1 div.sk-parallel-item:only-child::after {width: 0;}#sk-container-id-1 div.sk-dashed-wrapped {border: 1px dashed gray;margin: 0 0.4em 0.5em 0.4em;box-sizing: border-box;padding-bottom: 0.4em;background-color: white;}#sk-container-id-1 div.sk-label label {font-family: monospace;font-weight: bold;display: inline-block;line-height: 1.2em;}#sk-container-id-1 div.sk-label-container {text-align: center;}#sk-container-id-1 div.sk-container {/* jupyter's `normalize.less` sets `[hidden] { display: none; }` but bootstrap.min.css set `[hidden] { display: none !important; }` so we also need the `!important` here to be able to override the default hidden behavior on the sphinx rendered scikit-learn.org. See: https://github.com/scikit-learn/scikit-learn/issues/21755 */display: inline-block !important;position: relative;}#sk-container-id-1 div.sk-text-repr-fallback {display: none;}</style><div id=\"sk-container-id-1\" class=\"sk-top-container\"><div class=\"sk-text-repr-fallback\"><pre>RandomForestClassifier(n_jobs=14, random_state=12)</pre><b>In a Jupyter environment, please rerun this cell to show the HTML representation or trust the notebook. <br />On GitHub, the HTML representation is unable to render, please try loading this page with nbviewer.org.</b></div><div class=\"sk-container\" hidden><div class=\"sk-item\"><div class=\"sk-estimator sk-toggleable\"><input class=\"sk-toggleable__control sk-hidden--visually\" id=\"sk-estimator-id-1\" type=\"checkbox\" checked><label for=\"sk-estimator-id-1\" class=\"sk-toggleable__label sk-toggleable__label-arrow\">RandomForestClassifier</label><div class=\"sk-toggleable__content\"><pre>RandomForestClassifier(n_jobs=14, random_state=12)</pre></div></div></div></div></div>"
      ],
      "text/plain": [
       "RandomForestClassifier(n_jobs=14, random_state=12)"
      ]
     },
     "execution_count": 7,
     "metadata": {},
     "output_type": "execute_result"
    }
   ],
   "source": [
    "%%time\n",
    "random_base = RandomForestClassifier(random_state=12, n_jobs=14)\n",
    "random_base.fit(x_train, y_train)"
   ]
  },
  {
   "cell_type": "code",
   "execution_count": 9,
   "id": "176475b5-295f-4c8b-a0c8-97ddad3aca44",
   "metadata": {},
   "outputs": [
    {
     "data": {
      "text/html": [
       "<div>\n",
       "<style scoped>\n",
       "    .dataframe tbody tr th:only-of-type {\n",
       "        vertical-align: middle;\n",
       "    }\n",
       "\n",
       "    .dataframe tbody tr th {\n",
       "        vertical-align: top;\n",
       "    }\n",
       "\n",
       "    .dataframe thead th {\n",
       "        text-align: right;\n",
       "    }\n",
       "</style>\n",
       "<table border=\"1\" class=\"dataframe\">\n",
       "  <thead>\n",
       "    <tr style=\"text-align: right;\">\n",
       "      <th></th>\n",
       "      <th>AUC</th>\n",
       "      <th>GAUC</th>\n",
       "      <th>xGAUC</th>\n",
       "    </tr>\n",
       "  </thead>\n",
       "  <tbody>\n",
       "    <tr>\n",
       "      <th>分数</th>\n",
       "      <td>0.764338</td>\n",
       "      <td>0.445309</td>\n",
       "      <td>0.541018</td>\n",
       "    </tr>\n",
       "  </tbody>\n",
       "</table>\n",
       "</div>"
      ],
      "text/plain": [
       "         AUC      GAUC     xGAUC\n",
       "分数  0.764338  0.445309  0.541018"
      ]
     },
     "execution_count": 9,
     "metadata": {},
     "output_type": "execute_result"
    }
   ],
   "source": [
    "get_res_df(y_val, random_base.predict_proba(x_val)[:, 1], x_val.user_id.values)"
   ]
  },
  {
   "cell_type": "markdown",
   "id": "4dd8f7ab-f632-4aa8-904a-1463dba780c8",
   "metadata": {},
   "source": [
    "* lgb"
   ]
  },
  {
   "cell_type": "code",
   "execution_count": 11,
   "id": "746a150f-ca6f-4be6-b4b6-98e8abeb6f55",
   "metadata": {},
   "outputs": [
    {
     "name": "stdout",
     "output_type": "stream",
     "text": [
      "CPU times: user 3min 35s, sys: 558 ms, total: 3min 35s\n",
      "Wall time: 54.5 s\n"
     ]
    },
    {
     "data": {
      "text/html": [
       "<div>\n",
       "<style scoped>\n",
       "    .dataframe tbody tr th:only-of-type {\n",
       "        vertical-align: middle;\n",
       "    }\n",
       "\n",
       "    .dataframe tbody tr th {\n",
       "        vertical-align: top;\n",
       "    }\n",
       "\n",
       "    .dataframe thead th {\n",
       "        text-align: right;\n",
       "    }\n",
       "</style>\n",
       "<table border=\"1\" class=\"dataframe\">\n",
       "  <thead>\n",
       "    <tr style=\"text-align: right;\">\n",
       "      <th></th>\n",
       "      <th>AUC</th>\n",
       "      <th>GAUC</th>\n",
       "      <th>xGAUC</th>\n",
       "    </tr>\n",
       "  </thead>\n",
       "  <tbody>\n",
       "    <tr>\n",
       "      <th>分数</th>\n",
       "      <td>0.797443</td>\n",
       "      <td>0.271142</td>\n",
       "      <td>0.429033</td>\n",
       "    </tr>\n",
       "  </tbody>\n",
       "</table>\n",
       "</div>"
      ],
      "text/plain": [
       "         AUC      GAUC     xGAUC\n",
       "分数  0.797443  0.271142  0.429033"
      ]
     },
     "execution_count": 11,
     "metadata": {},
     "output_type": "execute_result"
    }
   ],
   "source": [
    "%%time\n",
    "lgb_base = lgb.LGBMClassifier(random_state=12)\n",
    "lgb_base.fit(x_train, y_train)\n",
    "get_res_df(y_val, lgb_base.predict_proba(x_val)[:, 1], x_val.user_id.values)"
   ]
  },
  {
   "cell_type": "code",
   "execution_count": 13,
   "id": "f2b0c3b6-e9b9-4d24-afb2-fcfa9a33299d",
   "metadata": {},
   "outputs": [
    {
     "name": "stdout",
     "output_type": "stream",
     "text": [
      "CPU times: user 3min 23s, sys: 969 ms, total: 3min 24s\n",
      "Wall time: 55.2 s\n"
     ]
    },
    {
     "data": {
      "text/html": [
       "<div>\n",
       "<style scoped>\n",
       "    .dataframe tbody tr th:only-of-type {\n",
       "        vertical-align: middle;\n",
       "    }\n",
       "\n",
       "    .dataframe tbody tr th {\n",
       "        vertical-align: top;\n",
       "    }\n",
       "\n",
       "    .dataframe thead th {\n",
       "        text-align: right;\n",
       "    }\n",
       "</style>\n",
       "<table border=\"1\" class=\"dataframe\">\n",
       "  <thead>\n",
       "    <tr style=\"text-align: right;\">\n",
       "      <th></th>\n",
       "      <th>AUC</th>\n",
       "      <th>GAUC</th>\n",
       "      <th>xGAUC</th>\n",
       "    </tr>\n",
       "  </thead>\n",
       "  <tbody>\n",
       "    <tr>\n",
       "      <th>分数</th>\n",
       "      <td>0.797593</td>\n",
       "      <td>0.271195</td>\n",
       "      <td>0.429115</td>\n",
       "    </tr>\n",
       "  </tbody>\n",
       "</table>\n",
       "</div>"
      ],
      "text/plain": [
       "         AUC      GAUC     xGAUC\n",
       "分数  0.797593  0.271195  0.429115"
      ]
     },
     "execution_count": 13,
     "metadata": {},
     "output_type": "execute_result"
    }
   ],
   "source": [
    "%%time\n",
    "# 用GPU，看看时间\n",
    "lgb_base = lgb.LGBMClassifier(random_state=12, device='gpu')\n",
    "lgb_base.fit(x_train, y_train)\n",
    "get_res_df(y_val, lgb_base.predict_proba(x_val)[:, 1], x_val.user_id.values)"
   ]
  },
  {
   "cell_type": "markdown",
   "id": "82b5416a-9e85-4a29-a29c-208005236c97",
   "metadata": {},
   "source": [
    "* xgb"
   ]
  },
  {
   "cell_type": "code",
   "execution_count": 12,
   "id": "c4a3d47e-46f8-4e57-8c56-25cbeecc7e68",
   "metadata": {},
   "outputs": [
    {
     "name": "stdout",
     "output_type": "stream",
     "text": [
      "CPU times: user 24min 29s, sys: 7.52 s, total: 24min 36s\n",
      "Wall time: 2min 44s\n"
     ]
    },
    {
     "data": {
      "text/html": [
       "<div>\n",
       "<style scoped>\n",
       "    .dataframe tbody tr th:only-of-type {\n",
       "        vertical-align: middle;\n",
       "    }\n",
       "\n",
       "    .dataframe tbody tr th {\n",
       "        vertical-align: top;\n",
       "    }\n",
       "\n",
       "    .dataframe thead th {\n",
       "        text-align: right;\n",
       "    }\n",
       "</style>\n",
       "<table border=\"1\" class=\"dataframe\">\n",
       "  <thead>\n",
       "    <tr style=\"text-align: right;\">\n",
       "      <th></th>\n",
       "      <th>AUC</th>\n",
       "      <th>GAUC</th>\n",
       "      <th>xGAUC</th>\n",
       "    </tr>\n",
       "  </thead>\n",
       "  <tbody>\n",
       "    <tr>\n",
       "      <th>分数</th>\n",
       "      <td>0.801552</td>\n",
       "      <td>0.271651</td>\n",
       "      <td>0.430621</td>\n",
       "    </tr>\n",
       "  </tbody>\n",
       "</table>\n",
       "</div>"
      ],
      "text/plain": [
       "         AUC      GAUC     xGAUC\n",
       "分数  0.801552  0.271651  0.430621"
      ]
     },
     "execution_count": 12,
     "metadata": {},
     "output_type": "execute_result"
    }
   ],
   "source": [
    "%%time\n",
    "xgb_base = xgb.XGBClassifier(random_state=12)\n",
    "xgb_base.fit(x_train, y_train)\n",
    "get_res_df(y_val, xgb_base.predict_proba(x_val)[:, 1], x_val.user_id.values)"
   ]
  },
  {
   "cell_type": "code",
   "execution_count": 14,
   "id": "e782301a-c5fc-4c95-be9b-01af54b51b25",
   "metadata": {},
   "outputs": [
    {
     "name": "stdout",
     "output_type": "stream",
     "text": [
      "CPU times: user 56.4 s, sys: 620 ms, total: 57 s\n",
      "Wall time: 47.4 s\n"
     ]
    },
    {
     "data": {
      "text/html": [
       "<div>\n",
       "<style scoped>\n",
       "    .dataframe tbody tr th:only-of-type {\n",
       "        vertical-align: middle;\n",
       "    }\n",
       "\n",
       "    .dataframe tbody tr th {\n",
       "        vertical-align: top;\n",
       "    }\n",
       "\n",
       "    .dataframe thead th {\n",
       "        text-align: right;\n",
       "    }\n",
       "</style>\n",
       "<table border=\"1\" class=\"dataframe\">\n",
       "  <thead>\n",
       "    <tr style=\"text-align: right;\">\n",
       "      <th></th>\n",
       "      <th>AUC</th>\n",
       "      <th>GAUC</th>\n",
       "      <th>xGAUC</th>\n",
       "    </tr>\n",
       "  </thead>\n",
       "  <tbody>\n",
       "    <tr>\n",
       "      <th>分数</th>\n",
       "      <td>0.800463</td>\n",
       "      <td>0.271357</td>\n",
       "      <td>0.430089</td>\n",
       "    </tr>\n",
       "  </tbody>\n",
       "</table>\n",
       "</div>"
      ],
      "text/plain": [
       "         AUC      GAUC     xGAUC\n",
       "分数  0.800463  0.271357  0.430089"
      ]
     },
     "execution_count": 14,
     "metadata": {},
     "output_type": "execute_result"
    }
   ],
   "source": [
    "%%time\n",
    "# 用GPU，看看时间\n",
    "xgb_base = xgb.XGBClassifier(random_state=12, tree_method='gpu_hist')\n",
    "xgb_base.fit(x_train, y_train)\n",
    "get_res_df(y_val, xgb_base.predict_proba(x_val)[:, 1], x_val.user_id.values)"
   ]
  }
 ],
 "metadata": {
  "kernelspec": {
   "display_name": "Python 3.9.12 ('base')",
   "language": "python",
   "name": "python3"
  },
  "language_info": {
   "codemirror_mode": {
    "name": "ipython",
    "version": 3
   },
   "file_extension": ".py",
   "mimetype": "text/x-python",
   "name": "python",
   "nbconvert_exporter": "python",
   "pygments_lexer": "ipython3",
   "version": "3.9.12"
  },
  "vscode": {
   "interpreter": {
    "hash": "88279d2366fe020547cde40dd65aa0e3aa662a6ec1f3ca12d88834876c85e1a6"
   }
  }
 },
 "nbformat": 4,
 "nbformat_minor": 5
}
